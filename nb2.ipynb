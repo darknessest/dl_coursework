{
 "cells": [
  {
   "cell_type": "markdown",
   "metadata": {},
   "source": [
    "# Coursework"
   ]
  },
  {
   "cell_type": "markdown",
   "metadata": {},
   "source": [
    "学生信息：\n"
   ]
  },
  {
   "cell_type": "markdown",
   "metadata": {},
   "source": [
    "Importing all libraries"
   ]
  },
  {
   "cell_type": "code",
   "execution_count": 1,
   "metadata": {},
   "outputs": [],
   "source": [
    "import os\n",
    "import csv\n",
    "import numpy as np\n",
    "import pandas as pd\n",
    "import tensorflow as tf"
   ]
  },
  {
   "cell_type": "code",
   "execution_count": 35,
   "metadata": {},
   "outputs": [],
   "source": [
    "import matplotlib as mpl\n",
    "import matplotlib.pyplot as plt\n",
    "# from matplotlib.font_manager import FontProperties\n",
    "# import seaborn as sns"
   ]
  },
  {
   "cell_type": "markdown",
   "metadata": {},
   "source": [
    "## Data preparation"
   ]
  },
  {
   "cell_type": "markdown",
   "metadata": {},
   "source": [
    "### Data import"
   ]
  },
  {
   "cell_type": "code",
   "execution_count": 5,
   "metadata": {},
   "outputs": [],
   "source": [
    "data_file = 'pue.csv'\n",
    "all_data = np.genfromtxt(data_file, \n",
    "                         delimiter=',', \n",
    "                         skip_header=1, \n",
    "                         skip_footer=5, \n",
    "                         dtype=np.float64, # check casting\n",
    "                         encoding='gb2312')"
   ]
  },
  {
   "cell_type": "markdown",
   "metadata": {},
   "source": [
    "### Picking features"
   ]
  },
  {
   "cell_type": "code",
   "execution_count": 6,
   "metadata": {},
   "outputs": [],
   "source": [
    "from sklearn.decomposition import PCA\n",
    "\n",
    "# x 输入数据\n",
    "# reduction_components 降维到多少维（2或3）\n",
    "def pca_reduction(x, reduction_components):\n",
    "    pca = PCA(n_components = reduction_components) # 降维\n",
    "    pca.fit(x) # 训练\n",
    "    newX = pca.fit_transform(x) # 降维后的数据\n",
    "    \n",
    "    return newX"
   ]
  },
  {
   "cell_type": "code",
   "execution_count": 8,
   "metadata": {},
   "outputs": [],
   "source": [
    "from sklearn.preprocessing import MinMaxScaler\n",
    "from sklearn.feature_selection import SelectKBest\n",
    "from sklearn.feature_selection import f_regression\n",
    "\n",
    "\n",
    "# normalize 是否进行归一化\n",
    "# reduction 是否降维\n",
    "# select_count 特征选择的个数\n",
    "# reduction_components 降维到多少维（2或3）\n",
    "def feature_selection(data, normalize=True, reduction=True, select_count=10, reduction_components=2):\n",
    "    \n",
    "    # TODO: change into one cycle\n",
    "    # 数据\n",
    "    x_64 = data[:, :64].copy()                    # 前64维\n",
    "    x_other = data[:, 64:-2].copy()               # 非前64维\n",
    "    y = data[:, -1].copy()                        # pue \n",
    "    time = data[:, -2].copy()                     # time\n",
    "    \n",
    "    # 归一化，所有特征都进行归一化\n",
    "    if normalize == True:       \n",
    "        scaler = MinMaxScaler()   \n",
    "        x_64 = scaler.fit_transform(x_64)\n",
    "        x_other = scaler.fit_transform(x_other)\n",
    "\n",
    "    # 特征选择，只对【非前64维度的特征】进行特征选择\n",
    "    fs = SelectKBest(score_func=f_regression, k=select_count)\n",
    "    X_selected = fs.fit_transform(x_other, y)\n",
    "\n",
    "    \n",
    "    # PCA降维\n",
    "    if reduction == True:\n",
    "        X_selected = pca_reduction(X_selected, reduction_components)\n",
    "\n",
    "        \n",
    "    # 将前64维和处理后的特征拼接在一起\n",
    "    return np.append(x_64,X_selected,axis=1), y, time"
   ]
  },
  {
   "cell_type": "code",
   "execution_count": 9,
   "metadata": {},
   "outputs": [
    {
     "name": "stdout",
     "output_type": "stream",
     "text": [
      "(2272, 84)\n",
      "(2272,)\n",
      "(2272,)\n"
     ]
    },
    {
     "name": "stderr",
     "output_type": "stream",
     "text": [
      "/Users/Alexey/miniconda3/envs/deeplearning/lib/python3.7/site-packages/sklearn/feature_selection/_univariate_selection.py:302: RuntimeWarning: invalid value encountered in true_divide\n",
      "  corr /= X_norms\n"
     ]
    }
   ],
   "source": [
    "# 结果 = 前64维 + 【非前64维特征】特征选择后的特征\n",
    "\n",
    "X, Y, time = feature_selection(all_data, reduction=False, select_count=20) \n",
    "\n",
    "\n",
    "print(X.shape)\n",
    "print(Y.shape)\n",
    "print(time.shape)"
   ]
  },
  {
   "cell_type": "code",
   "execution_count": null,
   "metadata": {},
   "outputs": [],
   "source": []
  },
  {
   "cell_type": "markdown",
   "metadata": {},
   "source": [
    "#### window + data split\n",
    "> 目前比使用"
   ]
  },
  {
   "cell_type": "code",
   "execution_count": 10,
   "metadata": {},
   "outputs": [],
   "source": [
    "def windowed_dataset(series, window_size, batch_size, shuffle_buffer):\n",
    "#     series = tf.expand_dims(series, axis=-1)\n",
    "\n",
    "    ds = tf.data.Dataset.from_tensor_slices(series)\n",
    "    ds = ds.window(window_size + 1, shift=1, drop_remainder=True)\n",
    "    ds = ds.flat_map(lambda w: w.batch(window_size + 1))\n",
    "    ds = ds.shuffle(shuffle_buffer)\n",
    "    ds = ds.map(lambda w: (w[:-1], w[1:]))\n",
    "    \n",
    "    return ds.batch(batch_size).prefetch(1)"
   ]
  },
  {
   "cell_type": "code",
   "execution_count": 11,
   "metadata": {},
   "outputs": [],
   "source": [
    "split_time = 2048\n",
    "window_size = 32\n",
    "batch_size = 64\n",
    "shuffle_buffer_size = 512\n",
    "\n",
    "time_train = time[:split_time]\n",
    "x_train = X[:split_time]\n",
    "y_train = Y[:split_time]\n",
    "\n",
    "time_valid = time[split_time:]\n",
    "x_valid = X[split_time:]\n",
    "y_valid = Y[split_time:]\n",
    "# t_set = np.column_stack((x_train, y_train))\n",
    "\n",
    "x_train = np.expand_dims(x_train, axis=1)\n",
    "x_valid = np.expand_dims(x_valid, axis=1)\n",
    "y_train = np.expand_dims(y_train, axis=1)\n",
    "y_valid = np.expand_dims(y_valid, axis=1)"
   ]
  },
  {
   "cell_type": "code",
   "execution_count": 12,
   "metadata": {},
   "outputs": [
    {
     "name": "stdout",
     "output_type": "stream",
     "text": [
      "(2048, 1, 84)\n",
      "<PrefetchDataset shapes: ((None, None, 85), (None, None, 85)), types: (tf.float64, tf.float64)>\n"
     ]
    }
   ],
   "source": [
    "# train_set = windowed_dataset(t_set, window_size, batch_size, shuffle_buffer_size)\n",
    "\n",
    "# print(x_train.shape)\n",
    "# print(train_set)"
   ]
  },
  {
   "cell_type": "markdown",
   "metadata": {},
   "source": [
    "## Define model"
   ]
  },
  {
   "cell_type": "markdown",
   "metadata": {},
   "source": [
    "First run is for checking which learning rate produces lowest loss"
   ]
  },
  {
   "cell_type": "code",
   "execution_count": null,
   "metadata": {},
   "outputs": [],
   "source": [
    "def plot_learning_curves(loss, val_loss):\n",
    "    plt.plot(np.arange(len(loss)) + 0.5, loss, \"b.-\", label=\"Training loss\")\n",
    "    plt.plot(np.arange(len(val_loss)) + 1, val_loss, \"r.-\", label=\"Validation loss\")\n",
    "    plt.gca().xaxis.set_major_locator(mpl.ticker.MaxNLocator(integer=True))\n",
    "    plt.axis([1, 20, 0, 0.05])\n",
    "    plt.legend(fontsize=14)\n",
    "    plt.xlabel(\"Epochs\")\n",
    "    plt.ylabel(\"Loss\")\n",
    "    plt.grid(True)"
   ]
  },
  {
   "cell_type": "markdown",
   "metadata": {},
   "source": [
    "1. 在这里先指定想训练的模型机构：层数，神经数，optimizer，loss，等等。也试一下多种数据状态\n",
    "2. 然后看一下图，可以选learning_rate，对adam、nadam、等等optimizer，可以跳过去这一步\n",
    "3. 每次调参数后使用`plot_learning_curves`来判断有没有overfitting什么的。\n",
    "4. 我还推荐使用 `keras.callbacks.EarlyStopping` 和 `keras.callbacks.ModelCheckpoint`\n",
    "5. 如果觉得训练了比较好的模型，自己保存到文档"
   ]
  },
  {
   "cell_type": "code",
   "execution_count": 13,
   "metadata": {},
   "outputs": [],
   "source": [
    "tf.keras.backend.clear_session()\n",
    "tf.random.set_seed(51)\n",
    "np.random.seed(51)\n",
    "\n",
    "model = tf.keras.models.Sequential([\n",
    "    tf.keras.layers.Input(shape=[None, x_train.shape[-1]]),\n",
    "    tf.keras.layers.Conv1D(filters=32, kernel_size=5,\n",
    "                      strides=1, padding=\"causal\",\n",
    "                      activation=\"relu\",\n",
    "    ),\n",
    "    tf.keras.layers.LSTM(64, return_sequences=True),\n",
    "    tf.keras.layers.LSTM(64, return_sequences=True),\n",
    "    tf.keras.layers.Dense(30, activation=\"relu\"),\n",
    "    tf.keras.layers.Dense(10, activation=\"relu\"),\n",
    "    tf.keras.layers.Dense(1),\n",
    "#   tf.keras.layers.Lambda(lambda x: x * 400)\n",
    "])\n",
    "\n",
    "lr_schedule = tf.keras.callbacks.LearningRateScheduler(\n",
    "    lambda epoch: 1e-8 * 10**(epoch / 20))\n",
    "\n",
    "optimizer = tf.keras.optimizers.SGD(lr=1e-8, momentum=0.9)\n",
    "\n",
    "model.compile(loss=tf.keras.losses.Huber(),\n",
    "              optimizer=optimizer,\n",
    "              metrics=[\"mae\"])\n",
    "\n",
    "# model.summary()"
   ]
  },
  {
   "cell_type": "code",
   "execution_count": 71,
   "metadata": {},
   "outputs": [],
   "source": []
  },
  {
   "cell_type": "code",
   "execution_count": 14,
   "metadata": {
    "collapsed": true,
    "jupyter": {
     "outputs_hidden": true
    }
   },
   "outputs": [
    {
     "name": "stdout",
     "output_type": "stream",
     "text": [
      "Epoch 1/100\n",
      "64/64 [==============================] - 0s 2ms/step - loss: 1.0056 - mae: 1.5056 - lr: 1.0000e-08\n",
      "Epoch 2/100\n",
      "64/64 [==============================] - 0s 2ms/step - loss: 1.0056 - mae: 1.5056 - lr: 1.1220e-08\n",
      "Epoch 3/100\n",
      "64/64 [==============================] - 0s 2ms/step - loss: 1.0056 - mae: 1.5056 - lr: 1.2589e-08\n",
      "Epoch 4/100\n",
      "64/64 [==============================] - 0s 2ms/step - loss: 1.0055 - mae: 1.5055 - lr: 1.4125e-08\n",
      "Epoch 5/100\n",
      "64/64 [==============================] - 0s 2ms/step - loss: 1.0055 - mae: 1.5055 - lr: 1.5849e-08\n",
      "Epoch 6/100\n",
      "64/64 [==============================] - 0s 2ms/step - loss: 1.0055 - mae: 1.5055 - lr: 1.7783e-08\n",
      "Epoch 7/100\n",
      "64/64 [==============================] - 0s 2ms/step - loss: 1.0054 - mae: 1.5054 - lr: 1.9953e-08\n",
      "Epoch 8/100\n",
      "64/64 [==============================] - 0s 2ms/step - loss: 1.0054 - mae: 1.5054 - lr: 2.2387e-08\n",
      "Epoch 9/100\n",
      "64/64 [==============================] - 0s 2ms/step - loss: 1.0054 - mae: 1.5054 - lr: 2.5119e-08\n",
      "Epoch 10/100\n",
      "64/64 [==============================] - 0s 2ms/step - loss: 1.0053 - mae: 1.5053 - lr: 2.8184e-08\n",
      "Epoch 11/100\n",
      "64/64 [==============================] - 0s 2ms/step - loss: 1.0052 - mae: 1.5052 - lr: 3.1623e-08\n",
      "Epoch 12/100\n",
      "64/64 [==============================] - 0s 2ms/step - loss: 1.0052 - mae: 1.5052 - lr: 3.5481e-08\n",
      "Epoch 13/100\n",
      "64/64 [==============================] - 0s 2ms/step - loss: 1.0051 - mae: 1.5051 - lr: 3.9811e-08\n",
      "Epoch 14/100\n",
      "64/64 [==============================] - 0s 2ms/step - loss: 1.0050 - mae: 1.5050 - lr: 4.4668e-08\n",
      "Epoch 15/100\n",
      "64/64 [==============================] - 0s 2ms/step - loss: 1.0049 - mae: 1.5049 - lr: 5.0119e-08\n",
      "Epoch 16/100\n",
      "64/64 [==============================] - 0s 2ms/step - loss: 1.0048 - mae: 1.5048 - lr: 5.6234e-08\n",
      "Epoch 17/100\n",
      "64/64 [==============================] - 0s 2ms/step - loss: 1.0047 - mae: 1.5047 - lr: 6.3096e-08\n",
      "Epoch 18/100\n",
      "64/64 [==============================] - 0s 2ms/step - loss: 1.0046 - mae: 1.5046 - lr: 7.0795e-08\n",
      "Epoch 19/100\n",
      "64/64 [==============================] - 0s 2ms/step - loss: 1.0044 - mae: 1.5044 - lr: 7.9433e-08\n",
      "Epoch 20/100\n",
      "64/64 [==============================] - 0s 2ms/step - loss: 1.0043 - mae: 1.5043 - lr: 8.9125e-08\n",
      "Epoch 21/100\n",
      "64/64 [==============================] - 0s 2ms/step - loss: 1.0041 - mae: 1.5041 - lr: 1.0000e-07\n",
      "Epoch 22/100\n",
      "64/64 [==============================] - 0s 2ms/step - loss: 1.0039 - mae: 1.5039 - lr: 1.1220e-07\n",
      "Epoch 23/100\n",
      "64/64 [==============================] - 0s 2ms/step - loss: 1.0037 - mae: 1.5037 - lr: 1.2589e-07\n",
      "Epoch 24/100\n",
      "64/64 [==============================] - 0s 2ms/step - loss: 1.0034 - mae: 1.5034 - lr: 1.4125e-07\n",
      "Epoch 25/100\n",
      "64/64 [==============================] - 0s 2ms/step - loss: 1.0031 - mae: 1.5031 - lr: 1.5849e-07\n",
      "Epoch 26/100\n",
      "64/64 [==============================] - 0s 2ms/step - loss: 1.0028 - mae: 1.5028 - lr: 1.7783e-07\n",
      "Epoch 27/100\n",
      "64/64 [==============================] - 0s 2ms/step - loss: 1.0025 - mae: 1.5025 - lr: 1.9953e-07\n",
      "Epoch 28/100\n",
      "64/64 [==============================] - 0s 2ms/step - loss: 1.0021 - mae: 1.5021 - lr: 2.2387e-07\n",
      "Epoch 29/100\n",
      "64/64 [==============================] - 0s 2ms/step - loss: 1.0017 - mae: 1.5017 - lr: 2.5119e-07\n",
      "Epoch 30/100\n",
      "64/64 [==============================] - 0s 2ms/step - loss: 1.0012 - mae: 1.5012 - lr: 2.8184e-07\n",
      "Epoch 31/100\n",
      "64/64 [==============================] - 0s 2ms/step - loss: 1.0007 - mae: 1.5007 - lr: 3.1623e-07\n",
      "Epoch 32/100\n",
      "64/64 [==============================] - 0s 2ms/step - loss: 1.0001 - mae: 1.5001 - lr: 3.5481e-07\n",
      "Epoch 33/100\n",
      "64/64 [==============================] - 0s 2ms/step - loss: 0.9994 - mae: 1.4994 - lr: 3.9811e-07\n",
      "Epoch 34/100\n",
      "64/64 [==============================] - 0s 2ms/step - loss: 0.9987 - mae: 1.4987 - lr: 4.4668e-07\n",
      "Epoch 35/100\n",
      "64/64 [==============================] - 0s 2ms/step - loss: 0.9980 - mae: 1.4980 - lr: 5.0119e-07\n",
      "Epoch 36/100\n",
      "64/64 [==============================] - 0s 2ms/step - loss: 0.9972 - mae: 1.4972 - lr: 5.6234e-07\n",
      "Epoch 37/100\n",
      "64/64 [==============================] - 0s 2ms/step - loss: 0.9964 - mae: 1.4964 - lr: 6.3096e-07\n",
      "Epoch 38/100\n",
      "64/64 [==============================] - 0s 2ms/step - loss: 0.9956 - mae: 1.4956 - lr: 7.0795e-07\n",
      "Epoch 39/100\n",
      "64/64 [==============================] - 0s 2ms/step - loss: 0.9947 - mae: 1.4947 - lr: 7.9433e-07\n",
      "Epoch 40/100\n",
      "64/64 [==============================] - 0s 2ms/step - loss: 0.9938 - mae: 1.4938 - lr: 8.9125e-07\n",
      "Epoch 41/100\n",
      "64/64 [==============================] - 0s 2ms/step - loss: 0.9927 - mae: 1.4927 - lr: 1.0000e-06\n",
      "Epoch 42/100\n",
      "64/64 [==============================] - 0s 2ms/step - loss: 0.9916 - mae: 1.4916 - lr: 1.1220e-06\n",
      "Epoch 43/100\n",
      "64/64 [==============================] - 0s 2ms/step - loss: 0.9903 - mae: 1.4903 - lr: 1.2589e-06\n",
      "Epoch 44/100\n",
      "64/64 [==============================] - 0s 2ms/step - loss: 0.9889 - mae: 1.4889 - lr: 1.4125e-06\n",
      "Epoch 45/100\n",
      "64/64 [==============================] - 0s 2ms/step - loss: 0.9873 - mae: 1.4873 - lr: 1.5849e-06\n",
      "Epoch 46/100\n",
      "64/64 [==============================] - 0s 2ms/step - loss: 0.9855 - mae: 1.4855 - lr: 1.7783e-06\n",
      "Epoch 47/100\n",
      "64/64 [==============================] - 0s 2ms/step - loss: 0.9836 - mae: 1.4836 - lr: 1.9953e-06\n",
      "Epoch 48/100\n",
      "64/64 [==============================] - 0s 2ms/step - loss: 0.9814 - mae: 1.4814 - lr: 2.2387e-06\n",
      "Epoch 49/100\n",
      "64/64 [==============================] - 0s 2ms/step - loss: 0.9790 - mae: 1.4790 - lr: 2.5119e-06\n",
      "Epoch 50/100\n",
      "64/64 [==============================] - 0s 2ms/step - loss: 0.9763 - mae: 1.4763 - lr: 2.8184e-06\n",
      "Epoch 51/100\n",
      "64/64 [==============================] - 0s 2ms/step - loss: 0.9734 - mae: 1.4734 - lr: 3.1623e-06\n",
      "Epoch 52/100\n",
      "64/64 [==============================] - 0s 2ms/step - loss: 0.9700 - mae: 1.4700 - lr: 3.5481e-06\n",
      "Epoch 53/100\n",
      "64/64 [==============================] - 0s 2ms/step - loss: 0.9663 - mae: 1.4663 - lr: 3.9811e-06\n",
      "Epoch 54/100\n",
      "64/64 [==============================] - 0s 2ms/step - loss: 0.9621 - mae: 1.4621 - lr: 4.4668e-06\n",
      "Epoch 55/100\n",
      "64/64 [==============================] - 0s 2ms/step - loss: 0.9574 - mae: 1.4574 - lr: 5.0119e-06\n",
      "Epoch 56/100\n",
      "64/64 [==============================] - 0s 2ms/step - loss: 0.9522 - mae: 1.4522 - lr: 5.6234e-06\n",
      "Epoch 57/100\n",
      "64/64 [==============================] - 0s 2ms/step - loss: 0.9463 - mae: 1.4463 - lr: 6.3096e-06\n",
      "Epoch 58/100\n",
      "64/64 [==============================] - 0s 2ms/step - loss: 0.9397 - mae: 1.4397 - lr: 7.0795e-06\n",
      "Epoch 59/100\n",
      "64/64 [==============================] - 0s 2ms/step - loss: 0.9323 - mae: 1.4323 - lr: 7.9433e-06\n",
      "Epoch 60/100\n",
      "64/64 [==============================] - 0s 2ms/step - loss: 0.9241 - mae: 1.4241 - lr: 8.9125e-06\n",
      "Epoch 61/100\n",
      "64/64 [==============================] - 0s 2ms/step - loss: 0.9148 - mae: 1.4148 - lr: 1.0000e-05\n",
      "Epoch 62/100\n",
      "64/64 [==============================] - 0s 2ms/step - loss: 0.9044 - mae: 1.4044 - lr: 1.1220e-05\n",
      "Epoch 63/100\n",
      "64/64 [==============================] - 0s 2ms/step - loss: 0.8927 - mae: 1.3927 - lr: 1.2589e-05\n",
      "Epoch 64/100\n",
      "64/64 [==============================] - 0s 2ms/step - loss: 0.8797 - mae: 1.3797 - lr: 1.4125e-05\n",
      "Epoch 65/100\n",
      "64/64 [==============================] - 0s 2ms/step - loss: 0.8650 - mae: 1.3650 - lr: 1.5849e-05\n",
      "Epoch 66/100\n",
      "64/64 [==============================] - 0s 2ms/step - loss: 0.8484 - mae: 1.3484 - lr: 1.7783e-05\n",
      "Epoch 67/100\n",
      "64/64 [==============================] - 0s 2ms/step - loss: 0.8298 - mae: 1.3298 - lr: 1.9953e-05\n",
      "Epoch 68/100\n",
      "64/64 [==============================] - 0s 2ms/step - loss: 0.8089 - mae: 1.3089 - lr: 2.2387e-05\n",
      "Epoch 69/100\n",
      "64/64 [==============================] - 0s 2ms/step - loss: 0.7854 - mae: 1.2854 - lr: 2.5119e-05\n",
      "Epoch 70/100\n",
      "64/64 [==============================] - 0s 2ms/step - loss: 0.7588 - mae: 1.2588 - lr: 2.8184e-05\n",
      "Epoch 71/100\n",
      "64/64 [==============================] - 0s 2ms/step - loss: 0.7287 - mae: 1.2287 - lr: 3.1623e-05\n",
      "Epoch 72/100\n",
      "64/64 [==============================] - 0s 2ms/step - loss: 0.6948 - mae: 1.1948 - lr: 3.5481e-05\n",
      "Epoch 73/100\n",
      "64/64 [==============================] - 0s 2ms/step - loss: 0.6563 - mae: 1.1563 - lr: 3.9811e-05\n",
      "Epoch 74/100\n",
      "64/64 [==============================] - 0s 2ms/step - loss: 0.6126 - mae: 1.1126 - lr: 4.4668e-05\n",
      "Epoch 75/100\n",
      "64/64 [==============================] - 0s 2ms/step - loss: 0.5627 - mae: 1.0627 - lr: 5.0119e-05\n",
      "Epoch 76/100\n",
      "64/64 [==============================] - 0s 2ms/step - loss: 0.5058 - mae: 1.0056 - lr: 5.6234e-05\n",
      "Epoch 77/100\n",
      "64/64 [==============================] - 0s 2ms/step - loss: 0.4439 - mae: 0.9416 - lr: 6.3096e-05\n",
      "Epoch 78/100\n",
      "64/64 [==============================] - 0s 2ms/step - loss: 0.3807 - mae: 0.8719 - lr: 7.0795e-05\n",
      "Epoch 79/100\n",
      "64/64 [==============================] - 0s 2ms/step - loss: 0.3184 - mae: 0.7972 - lr: 7.9433e-05\n",
      "Epoch 80/100\n",
      "64/64 [==============================] - 0s 2ms/step - loss: 0.2582 - mae: 0.7177 - lr: 8.9125e-05\n",
      "Epoch 81/100\n",
      "64/64 [==============================] - 0s 2ms/step - loss: 0.2018 - mae: 0.6342 - lr: 1.0000e-04\n",
      "Epoch 82/100\n",
      "64/64 [==============================] - 0s 2ms/step - loss: 0.1507 - mae: 0.5477 - lr: 1.1220e-04\n",
      "Epoch 83/100\n",
      "64/64 [==============================] - 0s 2ms/step - loss: 0.1066 - mae: 0.4602 - lr: 1.2589e-04\n",
      "Epoch 84/100\n",
      "64/64 [==============================] - 0s 2ms/step - loss: 0.0707 - mae: 0.3741 - lr: 1.4125e-04\n",
      "Epoch 85/100\n",
      "64/64 [==============================] - 0s 2ms/step - loss: 0.0434 - mae: 0.2923 - lr: 1.5849e-04\n",
      "Epoch 86/100\n",
      "64/64 [==============================] - 0s 2ms/step - loss: 0.0243 - mae: 0.2180 - lr: 1.7783e-04\n",
      "Epoch 87/100\n",
      "64/64 [==============================] - 0s 2ms/step - loss: 0.0124 - mae: 0.1539 - lr: 1.9953e-04\n",
      "Epoch 88/100\n",
      "64/64 [==============================] - 0s 2ms/step - loss: 0.0057 - mae: 0.1024 - lr: 2.2387e-04\n",
      "Epoch 89/100\n",
      "64/64 [==============================] - 0s 2ms/step - loss: 0.0025 - mae: 0.0634 - lr: 2.5119e-04\n",
      "Epoch 90/100\n",
      "64/64 [==============================] - 0s 2ms/step - loss: 0.0011 - mae: 0.0379 - lr: 2.8184e-04\n",
      "Epoch 91/100\n",
      "64/64 [==============================] - 0s 2ms/step - loss: 5.8468e-04 - mae: 0.0263 - lr: 3.1623e-04\n",
      "Epoch 92/100\n",
      "64/64 [==============================] - 0s 2ms/step - loss: 4.3683e-04 - mae: 0.0237 - lr: 3.5481e-04\n",
      "Epoch 93/100\n",
      "64/64 [==============================] - 0s 2ms/step - loss: 3.9897e-04 - mae: 0.0233 - lr: 3.9811e-04\n",
      "Epoch 94/100\n",
      "64/64 [==============================] - 0s 2ms/step - loss: 3.9097e-04 - mae: 0.0234 - lr: 4.4668e-04\n",
      "Epoch 95/100\n",
      "64/64 [==============================] - 0s 2ms/step - loss: 3.8878e-04 - mae: 0.0235 - lr: 5.0119e-04\n",
      "Epoch 96/100\n",
      "64/64 [==============================] - 0s 2ms/step - loss: 3.8691e-04 - mae: 0.0234 - lr: 5.6234e-04\n",
      "Epoch 97/100\n",
      "64/64 [==============================] - 0s 2ms/step - loss: 3.8309e-04 - mae: 0.0233 - lr: 6.3096e-04\n",
      "Epoch 98/100\n",
      "64/64 [==============================] - 0s 2ms/step - loss: 3.7270e-04 - mae: 0.0229 - lr: 7.0795e-04\n",
      "Epoch 99/100\n",
      "64/64 [==============================] - 0s 2ms/step - loss: 3.5971e-04 - mae: 0.0225 - lr: 7.9433e-04\n",
      "Epoch 100/100\n",
      "64/64 [==============================] - 0s 2ms/step - loss: 3.5366e-04 - mae: 0.0222 - lr: 8.9125e-04\n"
     ]
    }
   ],
   "source": [
    "history = model.fit(x_train,y_train, \n",
    "                    epochs=100, \n",
    "                    callbacks=[lr_schedule]\n",
    "                   )"
   ]
  },
  {
   "cell_type": "markdown",
   "metadata": {},
   "source": [
    "Plot first run results, and the lowest loss is around `lr = 1e-4`"
   ]
  },
  {
   "cell_type": "code",
   "execution_count": 15,
   "metadata": {},
   "outputs": [
    {
     "data": {
      "text/plain": [
       "(1e-08, 0.0009, 0.0, 1.0)"
      ]
     },
     "execution_count": 15,
     "metadata": {},
     "output_type": "execute_result"
    },
    {
     "data": {
      "image/png": "[encoded data removed]",
      "text/plain": [
       "<Figure size 720x360 with 1 Axes>"
      ]
     },
     "metadata": {
      "needs_background": "light"
     },
     "output_type": "display_data"
    }
   ],
   "source": [
    "plt.figure(figsize=(10, 5))\n",
    "plt.semilogx(history.history[\"lr\"], history.history[\"loss\"])\n",
    "plt.axis([1e-8, 9e-4, 0, 1])"
   ]
  },
  {
   "cell_type": "markdown",
   "metadata": {},
   "source": [
    "### Improving model architecture + Finetuning\n",
    "> TODO：调模型参数"
   ]
  },
  {
   "cell_type": "code",
   "execution_count": null,
   "metadata": {},
   "outputs": [],
   "source": []
  },
  {
   "cell_type": "code",
   "execution_count": null,
   "metadata": {},
   "outputs": [],
   "source": []
  },
  {
   "cell_type": "code",
   "execution_count": null,
   "metadata": {},
   "outputs": [],
   "source": []
  },
  {
   "cell_type": "code",
   "execution_count": null,
   "metadata": {},
   "outputs": [],
   "source": []
  },
  {
   "cell_type": "markdown",
   "metadata": {},
   "source": [
    "### Actual training"
   ]
  },
  {
   "cell_type": "code",
   "execution_count": 38,
   "metadata": {
    "collapsed": true,
    "jupyter": {
     "outputs_hidden": true
    }
   },
   "outputs": [
    {
     "name": "stdout",
     "output_type": "stream",
     "text": [
      "Model: \"sequential\"\n",
      "_________________________________________________________________\n",
      "Layer (type)                 Output Shape              Param #   \n",
      "=================================================================\n",
      "conv1d (Conv1D)              (None, None, 64)          26944     \n",
      "_________________________________________________________________\n",
      "lstm (LSTM)                  (None, None, 512)         1181696   \n",
      "_________________________________________________________________\n",
      "lstm_1 (LSTM)                (None, None, 128)         328192    \n",
      "_________________________________________________________________\n",
      "dense (Dense)                (None, None, 128)         16512     \n",
      "_________________________________________________________________\n",
      "dense_1 (Dense)              (None, None, 64)          8256      \n",
      "_________________________________________________________________\n",
      "dense_2 (Dense)              (None, None, 1)           65        \n",
      "=================================================================\n",
      "Total params: 1,561,665\n",
      "Trainable params: 1,561,665\n",
      "Non-trainable params: 0\n",
      "_________________________________________________________________\n"
     ]
    }
   ],
   "source": [
    "tf.keras.backend.clear_session()\n",
    "tf.random.set_seed(51)\n",
    "np.random.seed(51)\n",
    "\n",
    "\n",
    "model = tf.keras.models.Sequential([\n",
    "    tf.keras.layers.Input(shape=[None, x_train.shape[-1]]),\n",
    "  tf.keras.layers.Conv1D(filters=64, \n",
    "                         kernel_size=5,\n",
    "                         strides=1, \n",
    "                         padding=\"causal\",\n",
    "                         activation=\"relu\",\n",
    "                        ),\n",
    "    \n",
    "  tf.keras.layers.LSTM(512, return_sequences=True),\n",
    "  tf.keras.layers.LSTM(128, return_sequences=True),\n",
    "  tf.keras.layers.Dense(128, activation=\"elu\"),\n",
    "  tf.keras.layers.Dense(64, activation=\"elu\"),\n",
    "  tf.keras.layers.Dense(1),\n",
    "\n",
    "])\n",
    "\n",
    "optimizer = tf.keras.optimizers.Nadam()\n",
    "# optimizer = tf.keras.optimizers.SGD(lr=1e-4, momentum=0.9) # change\n",
    "\n",
    "model.compile(\n",
    "    loss=\"mse\",\n",
    "    optimizer=optimizer,\n",
    "    metrics=[\"mae\"]\n",
    ")\n",
    "\n",
    "model.summary()"
   ]
  },
  {
   "cell_type": "code",
   "execution_count": 39,
   "metadata": {
    "collapsed": true,
    "jupyter": {
     "outputs_hidden": true
    }
   },
   "outputs": [
    {
     "name": "stdout",
     "output_type": "stream",
     "text": [
      "Epoch 1/20\n",
      "64/64 [==============================] - 2s 32ms/step - loss: 0.1558 - mae: 0.2106 - val_loss: 0.0129 - val_mae: 0.0857\n",
      "Epoch 2/20\n",
      "64/64 [==============================] - 2s 24ms/step - loss: 0.0093 - mae: 0.0844 - val_loss: 0.0150 - val_mae: 0.0822\n",
      "Epoch 3/20\n",
      "64/64 [==============================] - 1s 23ms/step - loss: 0.0081 - mae: 0.0684 - val_loss: 0.0082 - val_mae: 0.0631\n",
      "Epoch 4/20\n",
      "64/64 [==============================] - 2s 24ms/step - loss: 0.0052 - mae: 0.0560 - val_loss: 0.0251 - val_mae: 0.1398\n",
      "Epoch 5/20\n",
      "64/64 [==============================] - 2s 24ms/step - loss: 0.0022 - mae: 0.0361 - val_loss: 0.0155 - val_mae: 0.1008\n",
      "Epoch 6/20\n",
      "64/64 [==============================] - 2s 24ms/step - loss: 0.0034 - mae: 0.0443 - val_loss: 0.0141 - val_mae: 0.0966\n",
      "Epoch 7/20\n",
      "64/64 [==============================] - 1s 23ms/step - loss: 0.0039 - mae: 0.0470 - val_loss: 0.0062 - val_mae: 0.0494\n",
      "Epoch 8/20\n",
      "64/64 [==============================] - 2s 24ms/step - loss: 0.0038 - mae: 0.0542 - val_loss: 0.0049 - val_mae: 0.0422\n",
      "Epoch 9/20\n",
      "64/64 [==============================] - 1s 23ms/step - loss: 6.6925e-04 - mae: 0.0206 - val_loss: 0.0047 - val_mae: 0.0407\n",
      "Epoch 10/20\n",
      "64/64 [==============================] - 1s 23ms/step - loss: 0.0037 - mae: 0.0498 - val_loss: 0.0032 - val_mae: 0.0352\n",
      "Epoch 11/20\n",
      "64/64 [==============================] - 2s 24ms/step - loss: 0.0016 - mae: 0.0317 - val_loss: 0.0033 - val_mae: 0.0329\n",
      "Epoch 12/20\n",
      "64/64 [==============================] - 2s 24ms/step - loss: 0.0014 - mae: 0.0303 - val_loss: 0.0031 - val_mae: 0.0315\n",
      "Epoch 13/20\n",
      "64/64 [==============================] - 1s 23ms/step - loss: 0.0022 - mae: 0.0370 - val_loss: 0.0123 - val_mae: 0.1011\n",
      "Epoch 14/20\n",
      "64/64 [==============================] - 1s 23ms/step - loss: 0.0011 - mae: 0.0254 - val_loss: 0.0023 - val_mae: 0.0299\n",
      "Epoch 15/20\n",
      "64/64 [==============================] - 1s 23ms/step - loss: 7.0651e-04 - mae: 0.0215 - val_loss: 0.0023 - val_mae: 0.0274\n",
      "Epoch 16/20\n",
      "64/64 [==============================] - 1s 23ms/step - loss: 0.0023 - mae: 0.0368 - val_loss: 0.0020 - val_mae: 0.0320\n",
      "Epoch 17/20\n",
      "64/64 [==============================] - 2s 23ms/step - loss: 0.0015 - mae: 0.0329 - val_loss: 0.0020 - val_mae: 0.0256\n",
      "Epoch 18/20\n",
      "64/64 [==============================] - 1s 23ms/step - loss: 9.2737e-04 - mae: 0.0232 - val_loss: 0.0066 - val_mae: 0.0782\n",
      "Epoch 19/20\n",
      "64/64 [==============================] - 1s 23ms/step - loss: 0.0016 - mae: 0.0306 - val_loss: 0.0018 - val_mae: 0.0354\n",
      "Epoch 20/20\n",
      "64/64 [==============================] - 2s 24ms/step - loss: 6.0101e-04 - mae: 0.0195 - val_loss: 0.0035 - val_mae: 0.0573\n"
     ]
    }
   ],
   "source": [
    "history = model.fit(x_train, y_train, epochs=20,\n",
    "                   validation_data=(x_valid,y_valid))"
   ]
  },
  {
   "cell_type": "code",
   "execution_count": 40,
   "metadata": {},
   "outputs": [
    {
     "data": {
      "image/png": "[encoded data removed]",
      "text/plain": [
       "<Figure size 720x360 with 1 Axes>"
      ]
     },
     "metadata": {
      "needs_background": "light"
     },
     "output_type": "display_data"
    }
   ],
   "source": [
    "plt.figure(figsize=(10,5))\n",
    "plot_learning_curves(history.history[\"loss\"], history.history[\"val_loss\"])\n",
    "plt.show()"
   ]
  },
  {
   "cell_type": "markdown",
   "metadata": {},
   "source": [
    "### Plotting forecast of a trained model"
   ]
  },
  {
   "cell_type": "code",
   "execution_count": 19,
   "metadata": {},
   "outputs": [],
   "source": [
    "def plot_series(time, series, format=\"-\", start=0, end=None):\n",
    "    plt.plot(time[start:end], series[start:end], format)\n",
    "    plt.xlabel(\"Time\")\n",
    "    plt.ylabel(\"Value\")\n",
    "    plt.grid(True)"
   ]
  },
  {
   "cell_type": "code",
   "execution_count": 24,
   "metadata": {},
   "outputs": [],
   "source": [
    "def model_forecast(model, series, window_size):\n",
    "#     ds = tf.data.Dataset.from_tensor_slices(series)\n",
    "#     ds = ds.window(window_size, shift=1, drop_remainder=True)\n",
    "#     ds = ds.flat_map(lambda w: w.batch(window_size))\n",
    "#     ds = ds.batch(32).prefetch(1)\n",
    "    forecast = model.predict(series)\n",
    "    return forecast"
   ]
  },
  {
   "cell_type": "code",
   "execution_count": 42,
   "metadata": {},
   "outputs": [],
   "source": [
    "rnn_forecast = model_forecast(model, x_valid, window_size)\n",
    "rnn_forecast = rnn_forecast[:, 0, 0]"
   ]
  },
  {
   "cell_type": "code",
   "execution_count": 46,
   "metadata": {},
   "outputs": [
    {
     "data": {
      "image/png": "[encoded data removed]",
      "text/plain": [
       "<Figure size 1440x576 with 1 Axes>"
      ]
     },
     "metadata": {
      "needs_background": "light"
     },
     "output_type": "display_data"
    }
   ],
   "source": [
    "plt.figure(figsize=(20, 8))\n",
    "\n",
    "# unseen vs \n",
    "plot_series(time_valid, y_valid)\n",
    "plot_series(time_valid, rnn_forecast, format='-o')"
   ]
  },
  {
   "cell_type": "markdown",
   "metadata": {},
   "source": [
    "actual mae"
   ]
  },
  {
   "cell_type": "code",
   "execution_count": 33,
   "metadata": {},
   "outputs": [
    {
     "data": {
      "text/plain": [
       "<tf.Tensor: shape=(224,), dtype=float32, numpy=\n",
       "array([0.06221267, 0.06280155, 0.06250688, 0.061317  , 0.05631988,\n",
       "       0.04856522, 0.04629008, 0.04609579, 0.04596727, 0.04558561,\n",
       "       0.04550238, 0.0453688 , 0.04562552, 0.0518559 , 0.04540374,\n",
       "       0.04603094, 0.0455301 , 0.04550794, 0.0458492 , 0.0460413 ,\n",
       "       0.04626097, 0.04642896, 0.04575125, 0.04575125, 0.04658827,\n",
       "       0.04719857, 0.04799294, 0.05082388, 0.04775279, 0.04851233,\n",
       "       0.05246945, 0.05149162, 0.05373175, 0.05625084, 0.05891771,\n",
       "       0.04923957, 0.04776623, 0.04772584, 0.04841016, 0.04754812,\n",
       "       0.04746712, 0.04863477, 0.04823511, 0.05002069, 0.05084863,\n",
       "       0.05100748, 0.04918279, 0.04888959, 0.04811167, 0.04966596,\n",
       "       0.04888959, 0.05151653, 0.0506704 , 0.04856522, 0.04776623,\n",
       "       0.04795688, 0.04631327, 0.04670389, 0.04718867, 0.07225789,\n",
       "       0.06768221, 0.07529624, 0.07652034, 0.07743854, 0.07530878,\n",
       "       0.07622753, 0.07561707, 0.07469888, 0.07591145, 0.07714764,\n",
       "       0.07562394, 0.07775855, 0.07865743, 0.07713849, 0.08050014,\n",
       "       0.07651211, 0.07164799, 0.07043249, 0.06861294, 0.06222697,\n",
       "       0.05980333, 0.06102424, 0.05378164, 0.05517557, 0.0512988 ,\n",
       "       0.050216  , 0.05457436, 0.05625084, 0.05268335, 0.05347825,\n",
       "       0.05507947, 0.0512483 , 0.05322833, 0.05193332, 0.05655318,\n",
       "       0.05478997, 0.05653048, 0.05481421, 0.05947415, 0.06252073,\n",
       "       0.05924195, 0.05958547, 0.05685499, 0.05592542, 0.05953011,\n",
       "       0.05486253, 0.05687707, 0.05627389, 0.06011337, 0.05622763,\n",
       "       0.06007791, 0.05767915, 0.05709108, 0.05704727, 0.05978515,\n",
       "       0.06128543, 0.06278807, 0.06247902, 0.06737383, 0.06553204,\n",
       "       0.07012172, 0.07134446, 0.07226366, 0.07561707, 0.07653683,\n",
       "       0.07713849, 0.07832497, 0.0731727 , 0.07286679, 0.06646918,\n",
       "       0.06799004, 0.06677024, 0.06616034, 0.06372081, 0.06340951,\n",
       "       0.06250688, 0.06187431, 0.06188923, 0.06280155, 0.06372081,\n",
       "       0.06493037, 0.06829742, 0.06706499, 0.06920646, 0.06889909,\n",
       "       0.07226073, 0.07195482, 0.07287164, 0.06951328, 0.07256325,\n",
       "       0.06920985, 0.06738014, 0.06555043, 0.06585974, 0.06401987,\n",
       "       0.06281494, 0.04701523, 0.05772129, 0.05594879, 0.05828977,\n",
       "       0.06068162, 0.05918536, 0.05978515, 0.05916632, 0.05828977,\n",
       "       0.05622763, 0.06037113, 0.06280155, 0.06280155, 0.06193366,\n",
       "       0.06224126, 0.05983952, 0.06404311, 0.06252073, 0.05891771,\n",
       "       0.06100795, 0.07195199, 0.07711094, 0.07868069, 0.07713849,\n",
       "       0.08168799, 0.08048558, 0.08260958, 0.08294167, 0.08321856,\n",
       "       0.08111049, 0.08506713, 0.08353271, 0.08631064, 0.08925104,\n",
       "       0.08498044, 0.08437438, 0.08104879, 0.08347486, 0.0801599 ,\n",
       "       0.08106417, 0.08408147, 0.08013207, 0.09171125, 0.04610251,\n",
       "       0.05835002, 0.07347568, 0.06920985, 0.07438189, 0.07256325,\n",
       "       0.07408468, 0.07591145, 0.07834712, 0.0789681 , 0.08017391,\n",
       "       0.079578  , 0.08264546, 0.08655559, 0.08410161, 0.081967  ,\n",
       "       0.08106417, 0.07682049, 0.07134446, 0.07073501, 0.07378215,\n",
       "       0.07164846, 0.07499509, 0.07499509, 0.07256518], dtype=float32)>"
      ]
     },
     "execution_count": 33,
     "metadata": {},
     "output_type": "execute_result"
    }
   ],
   "source": [
    "# tf.keras.metrics.mean_absolute_error(y_valid, rnn_forecast)"
   ]
  },
  {
   "cell_type": "code",
   "execution_count": null,
   "metadata": {},
   "outputs": [],
   "source": []
  }
 ],
 "metadata": {
  "kernelspec": {
   "display_name": "deeplearning",
   "language": "python",
   "name": "deeplearning"
  },
  "language_info": {
   "codemirror_mode": {
    "name": "ipython",
    "version": 3
   },
   "file_extension": ".py",
   "mimetype": "text/x-python",
   "name": "python",
   "nbconvert_exporter": "python",
   "pygments_lexer": "ipython3",
   "version": "3.7.7"
  }
 },
 "nbformat": 4,
 "nbformat_minor": 4
}
